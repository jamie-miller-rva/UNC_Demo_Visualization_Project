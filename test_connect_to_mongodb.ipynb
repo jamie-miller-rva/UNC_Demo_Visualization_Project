{
 "cells": [
  {
   "cell_type": "code",
   "execution_count": 8,
   "id": "4bc00109-0ab2-44a4-8162-0214777a204f",
   "metadata": {},
   "outputs": [],
   "source": [
    "# import dependencies\n",
    "from flask import Flask, jsonify\n",
    "from pymongo import MongoClient\n",
    "import json\n",
    "import requests\n",
    "from pprint import pprint"
   ]
  },
  {
   "cell_type": "code",
   "execution_count": 5,
   "id": "af9d04de-2060-43a1-98ab-c57b583c7adc",
   "metadata": {},
   "outputs": [],
   "source": [
    "# Create an instance of MongoClient\n",
    "mongo = MongoClient(port=27017)"
   ]
  },
  {
   "cell_type": "code",
   "execution_count": 14,
   "id": "78feaf95-227d-44fe-bd57-ae7e28f7c7d5",
   "metadata": {},
   "outputs": [
    {
     "name": "stdout",
     "output_type": "stream",
     "text": [
      "['admin', 'autosaurus', 'classDB', 'config', 'epa', 'fruits_db', 'local', 'met', 'petsitly_marketing', 'superstore', 'uk_food']\n"
     ]
    }
   ],
   "source": [
    "# confirm that our new database was created\n",
    "print(mongo.list_database_names())"
   ]
  },
  {
   "cell_type": "code",
   "execution_count": 6,
   "id": "5965483d-991c-4d40-8f8a-466b15b74c19",
   "metadata": {},
   "outputs": [],
   "source": [
    "# assign the superstore database to a variable name\n",
    "db = mongo['superstore']"
   ]
  },
  {
   "cell_type": "code",
   "execution_count": 15,
   "id": "beb7ab5f-4369-4d57-8c95-e5f90f53c608",
   "metadata": {},
   "outputs": [
    {
     "name": "stdout",
     "output_type": "stream",
     "text": [
      "['orders']\n"
     ]
    }
   ],
   "source": [
    "# review the collections in our new database\n",
    "print(db.list_collection_names())"
   ]
  },
  {
   "cell_type": "code",
   "execution_count": 7,
   "id": "d4ce5d93-62e1-4890-bff6-83e4b361cb61",
   "metadata": {},
   "outputs": [],
   "source": [
    "# assign the collection to a variable\n",
    "orders = db['orders']"
   ]
  },
  {
   "cell_type": "code",
   "execution_count": 16,
   "id": "1446e8b1-7dbd-4587-ae28-a3e8367df16b",
   "metadata": {},
   "outputs": [
    {
     "name": "stdout",
     "output_type": "stream",
     "text": [
      "{'Category': 'Office Supplies',\n",
      " 'City': 'Houston',\n",
      " 'Country/Region': 'United States',\n",
      " 'Customer Name': 'Darren Powers',\n",
      " 'Discount': 0.2,\n",
      " 'Manufacturer': 'Message Book',\n",
      " 'Order Date': '1/3/2019',\n",
      " 'Order ID': 'US-2019-103800',\n",
      " 'Postal Code': 77095,\n",
      " 'Product Name': 'Message Book, Wirebound, Four 5 1/2\" X 4\" Forms/Pg., 200 '\n",
      "                 'Dupl. Sets/Book',\n",
      " 'Profit': 5.5512,\n",
      " 'Quantity': 2,\n",
      " 'Region': 'Central',\n",
      " 'Sales': 16.448,\n",
      " 'Segment': 'Consumer',\n",
      " 'Ship Date': '1/7/2019',\n",
      " 'Ship Mode': 'Standard Class',\n",
      " 'State/Province': 'Texas',\n",
      " 'Sub-Category': 'Paper',\n",
      " '_id': ObjectId('64a5ec6b01ab865a61af8cbf')}\n"
     ]
    }
   ],
   "source": [
    "# review a document in the orders collection\n",
    "pprint(db.orders.find_one())"
   ]
  },
  {
   "cell_type": "code",
   "execution_count": 22,
   "id": "dfb7cbc8-b889-4d35-abde-72280fba79d3",
   "metadata": {},
   "outputs": [
    {
     "name": "stdout",
     "output_type": "stream",
     "text": [
      "[{'Order Date': '1/6/2019', 'Sales': 31.12},\n",
      " {'Order Date': '1/6/2019', 'Sales': 6.54},\n",
      " {'Order Date': '1/5/2019', 'Sales': 19.536},\n",
      " {'Order Date': '1/6/2019', 'Sales': 609.98},\n",
      " {'Order Date': '1/6/2019', 'Sales': 5.48},\n",
      " {'Order Date': '1/4/2019', 'Sales': 272.736},\n",
      " {'Order Date': '1/4/2019', 'Sales': 3.54},\n",
      " {'Order Date': '1/3/2019', 'Sales': 16.448},\n",
      " {'Order Date': '1/4/2019', 'Sales': 11.784},\n",
      " {'Order Date': '1/6/2019', 'Sales': 12.78}]\n"
     ]
    }
   ],
   "source": [
    "# Query for category\n",
    "query = {'Category': \"Office Supplies\"}\n",
    "fields = {'Order Date': 1, 'Sales': 1, '_id': 0}\n",
    "sort = [('orders[Sales]', 1)]\n",
    "limit = 10\n",
    "\n",
    "# Cast the results as a list and save them to a variable\n",
    "results = list(orders.find(query, fields).sort(sort).limit(limit))\n",
    "\n",
    "# Pretty print the results\n",
    "pprint(results)"
   ]
  },
  {
   "cell_type": "code",
   "execution_count": null,
   "id": "85584199-09e4-4c8a-b173-c99446f88f54",
   "metadata": {},
   "outputs": [],
   "source": []
  }
 ],
 "metadata": {
  "kernelspec": {
   "display_name": "Python 3 (ipykernel)",
   "language": "python",
   "name": "python3"
  },
  "language_info": {
   "codemirror_mode": {
    "name": "ipython",
    "version": 3
   },
   "file_extension": ".py",
   "mimetype": "text/x-python",
   "name": "python",
   "nbconvert_exporter": "python",
   "pygments_lexer": "ipython3",
   "version": "3.10.11"
  },
  "widgets": {
   "application/vnd.jupyter.widget-state+json": {
    "state": {},
    "version_major": 2,
    "version_minor": 0
   }
  }
 },
 "nbformat": 4,
 "nbformat_minor": 5
}
